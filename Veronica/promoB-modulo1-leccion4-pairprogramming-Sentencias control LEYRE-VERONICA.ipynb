{
 "cells": [
  {
   "cell_type": "code",
   "execution_count": 6,
   "metadata": {},
   "outputs": [
    {
     "name": "stdout",
     "output_type": "stream",
     "text": [
      "Negativo\n"
     ]
    }
   ],
   "source": [
    "# Verificar si es positivo, negativo o cero\n",
    "\n",
    "numero = -4\n",
    "\n",
    "if numero > 0:\n",
    "    print(\"Positivo\")\n",
    "\n",
    "elif numero == 0:\n",
    "    print(\"Cero\")\n",
    "\n",
    "else:\n",
    "    print(\"Negativo\")"
   ]
  },
  {
   "cell_type": "code",
   "execution_count": 9,
   "metadata": {},
   "outputs": [
    {
     "name": "stdout",
     "output_type": "stream",
     "text": [
      "Par\n"
     ]
    }
   ],
   "source": [
    "# Verificar si es par o impar\n",
    "\n",
    "numero = 6\n",
    "\n",
    "if numero % 2 == 0:\n",
    "    print(\"Par\")\n",
    "\n",
    "else:\n",
    "    print(\"Impar\")"
   ]
  },
  {
   "cell_type": "code",
   "execution_count": 16,
   "metadata": {},
   "outputs": [
    {
     "name": "stdout",
     "output_type": "stream",
     "text": [
      "Aprobado\n"
     ]
    }
   ],
   "source": [
    "# Verificar si el alumno aprobó o suspendió el examen\n",
    "\n",
    "calificacion = int(input(\"Que calificación has sacado?\"))\n",
    "\n",
    "if calificacion >= 60:\n",
    "    print(\"Aprobado\")\n",
    "\n",
    "else:\n",
    "    print(\"Suspendido\")\n"
   ]
  },
  {
   "cell_type": "code",
   "execution_count": 26,
   "metadata": {},
   "outputs": [
    {
     "name": "stdout",
     "output_type": "stream",
     "text": [
      "5\n"
     ]
    }
   ],
   "source": [
    "# Calcular el máximo entre dos números\n",
    "\n",
    "numero1 = int(input(\"Elige un número:\"))\n",
    "\n",
    "numero2 = int(input(\"Elige un número:\"))\n",
    "\n",
    "if numero1 > numero2:\n",
    "    print(numero1)\n",
    "\n",
    "else:\n",
    "    print(numero2)"
   ]
  },
  {
   "cell_type": "code",
   "execution_count": 24,
   "metadata": {},
   "outputs": [
    {
     "name": "stdout",
     "output_type": "stream",
     "text": [
      "Vocal\n"
     ]
    }
   ],
   "source": [
    "# Verificar si una letra es una vocal o una consonante\n",
    "\n",
    "letra = input(\"Escribe una letra:\")\n",
    "\n",
    "vocales =  (\"a\" or \"e\" or \"i\" or \"o\" or \"u\")\n",
    "\n",
    "if vocales in letra:\n",
    "    print(\"Vocal\")\n",
    "else:\n",
    "    print(\"Consonante\")"
   ]
  },
  {
   "cell_type": "code",
   "execution_count": 26,
   "metadata": {},
   "outputs": [
    {
     "name": "stdout",
     "output_type": "stream",
     "text": [
      "No tienes descuento. 90\n"
     ]
    }
   ],
   "source": [
    " # Calcular el descuento en una compra según el monto total\n",
    " \n",
    "total_compra = int(input(\"Cuanto te has gastado?\"))\n",
    "\n",
    "\n",
    "if total_compra >= 100:\n",
    "    print(\"Tienes un descuento del 10%. Se te quedaría en\", (total_compra * 0.9))\n",
    "\n",
    "else:\n",
    "    print(\"No tienes descuento.\", total_compra)\n",
    "\n"
   ]
  },
  {
   "cell_type": "code",
   "execution_count": 30,
   "metadata": {},
   "outputs": [
    {
     "name": "stdout",
     "output_type": "stream",
     "text": [
      "Bisiesto\n"
     ]
    }
   ],
   "source": [
    "# Verificar si un año es bisiesto o no\n",
    "\n",
    "año = int(input(\"Que año es?\"))\n",
    "\n",
    "if año % 4 == 0:\n",
    "    print(\"Bisiesto\")\n",
    "\n",
    "else: \n",
    "    print(\"No es bisiesto\")"
   ]
  },
  {
   "cell_type": "code",
   "execution_count": 34,
   "metadata": {},
   "outputs": [
    {
     "name": "stdout",
     "output_type": "stream",
     "text": [
      "Adulto\n"
     ]
    }
   ],
   "source": [
    "# Asignar una categoría de edad\n",
    "\n",
    "edad = int(input(\"Cuantos años tienes?\"))\n",
    "\n",
    "if edad < 18:\n",
    "    print(\"Menor de edad\")\n",
    "elif 18 <= edad <= 64:\n",
    "    print(\"Adulto\")\n",
    "else:\n",
    "    print(\"Adulto mayor\")"
   ]
  },
  {
   "cell_type": "code",
   "execution_count": 36,
   "metadata": {},
   "outputs": [
    {
     "name": "stdout",
     "output_type": "stream",
     "text": [
      "No da\n"
     ]
    }
   ],
   "source": [
    "# Verificar si tres números forman un triángulo rectángulo\n",
    "\n",
    "medida1 = int(input(\"Añade un numero\"))\n",
    "\n",
    "medida2 = int(input(\"Añade un numero\"))\n",
    "\n",
    "medida3 = int(input(\"Añade un numero\"))\n",
    "\n",
    "if medida1 + medida2 == medida3:\n",
    "    print(\"Triángulo rectángulo\")\n",
    "else:\n",
    "    print(\"No es un triángulo rectángulo\")"
   ]
  },
  {
   "cell_type": "code",
   "execution_count": 17,
   "metadata": {},
   "outputs": [
    {
     "name": "stdout",
     "output_type": "stream",
     "text": [
      "F\n"
     ]
    }
   ],
   "source": [
    "# Asignar una calificación a una puntuación\n",
    "\n",
    "calificacion = int(input(\"Que nota has sacado?\"))\n",
    "\n",
    "if calificacion >= 90:\n",
    "    print(\"A\")\n",
    "\n",
    "elif calificacion >= 80:\n",
    "    print(\"B\")\n",
    "\n",
    "elif calificacion >= 70:\n",
    "    print(\"C\")\n",
    "\n",
    "elif calificacion >= 60:\n",
    "    print(\"D\")\n",
    "\n",
    "else:\n",
    "    print(\"F\")\n"
   ]
  },
  {
   "cell_type": "code",
   "execution_count": 23,
   "metadata": {},
   "outputs": [
    {
     "name": "stdout",
     "output_type": "stream",
     "text": [
      "El IMC es: 35.55555555555556\n",
      "Obesidad\n"
     ]
    }
   ],
   "source": [
    "# Calcular el IMC\n",
    "\n",
    "peso = float(input(\"Cuanto pesas?\"))\n",
    "\n",
    "altura = float(input(\"Cuanto mides?\"))\n",
    "\n",
    "IMC = peso / (altura)**2\n",
    "print(\"El IMC es:\", IMC)\n",
    "\n",
    "if IMC < 18.5:\n",
    "    print(\"Bajo peso\")\n",
    "elif 18.5 <= IMC <= 24.9:\n",
    "    print(\"Peso normal\")\n",
    "elif 25.0 <= IMC <= 29.9:\n",
    "    print(\"Sobrepeso\")\n",
    "else:\n",
    "    print(\"Obesidad\")\n"
   ]
  },
  {
   "cell_type": "code",
   "execution_count": 29,
   "metadata": {},
   "outputs": [
    {
     "name": "stdout",
     "output_type": "stream",
     "text": [
      "20\n"
     ]
    }
   ],
   "source": [
    "# Calcular el mayor de 3 números\n",
    "\n",
    "\n",
    "numero1 = int(input(\"Elige un número:\"))\n",
    "\n",
    "numero2 = int(input(\"Elige un número:\"))\n",
    "\n",
    "numero3 = int(input(\"Elige un número:\"))\n",
    "\n",
    "mayor = numero1\n",
    "\n",
    "\n",
    "if numero2 > numero1:\n",
    "    \n",
    "    mayor = numero2\n",
    "    \n",
    "if numero3 > numero2:\n",
    "    mayor = numero3\n",
    "\n",
    "    print(mayor)"
   ]
  },
  {
   "cell_type": "code",
   "execution_count": 32,
   "metadata": {},
   "outputs": [
    {
     "name": "stdout",
     "output_type": "stream",
     "text": [
      "0/13/1800\n",
      "False\n",
      "False\n",
      "False\n"
     ]
    }
   ],
   "source": [
    "# Verificar la validez de una fecha\n",
    "\n",
    "pregunta = input(\"Cual es tu fecha de nacimiento\")\n",
    "\n",
    "print(pregunta)\n",
    "\n",
    "dia = int(input(\"Elige un dia\"))\n",
    "\n",
    "mes = int(input(\"Elige un mes\"))\n",
    "\n",
    "año = int(input(\"Elige un año\"))\n",
    "\n",
    "if 1 <= dia <= 31:\n",
    "    print(dia)\n",
    "else:\n",
    "    print(False)\n",
    "\n",
    "if 1 <= mes <= 12:\n",
    "    print(mes)\n",
    "else:\n",
    "    print(False)\n",
    "\n",
    "if 1850 <= año <= 2024:\n",
    "    print(año)\n",
    "else:\n",
    "    print(False)\n"
   ]
  },
  {
   "cell_type": "code",
   "execution_count": 41,
   "metadata": {},
   "outputs": [
    {
     "name": "stdout",
     "output_type": "stream",
     "text": [
      "Sigue sumando\n",
      "Sigue sumando\n",
      "Sigue sumando\n",
      "Sigue sumando\n",
      "Sigue sumando\n",
      "Sigue sumando\n",
      "Sigue sumando\n",
      "Sigue sumando\n",
      "Sigue sumando\n",
      "Sigue sumando\n",
      "Has llegado a 10\n",
      "10\n"
     ]
    }
   ],
   "source": [
    "# Calcular la suma de los primeros 10 numeros naturales\n",
    "\n",
    "numero = 1\n",
    "\n",
    "suma_numeros = 0\n",
    "\n",
    "while numero <= 10:\n",
    "    suma_numeros += 1\n",
    "    numero += 1\n",
    "    print(\"Sigue sumando\")\n",
    "\n",
    "else: \n",
    "    print(\"Has llegado a 10\")\n",
    "\n",
    "print(suma_numeros)\n"
   ]
  },
  {
   "cell_type": "code",
   "execution_count": 36,
   "metadata": {},
   "outputs": [
    {
     "name": "stdout",
     "output_type": "stream",
     "text": [
      "Número incorrecto. Intenta de nuevo.\n",
      "Número incorrecto. Intenta de nuevo.\n",
      "Número incorrecto. Intenta de nuevo.\n",
      "Número incorrecto. Intenta de nuevo.\n",
      "¡Felicidades! Ya tienes el número secreto en 5 intentos.\n"
     ]
    }
   ],
   "source": [
    "# Juego de adivinanza \n",
    "\n",
    "numero_secreto = 7\n",
    "intentos = 0\n",
    "adivinado = False\n",
    "\n",
    "while not adivinado:\n",
    "    intento = int(input(\"Adivina el número secreto: \"))\n",
    "    intentos += 1\n",
    "    \n",
    "    if intento == numero_secreto:\n",
    "        print(\"¡Felicidades! Ya tienes el número secreto en\", intentos, \"intentos.\")\n",
    "        adivinado = True\n",
    "    else:\n",
    "        print(\"Número incorrecto. Intenta de nuevo.\")"
   ]
  }
 ],
 "metadata": {
  "kernelspec": {
   "display_name": "Python 3",
   "language": "python",
   "name": "python3"
  },
  "language_info": {
   "codemirror_mode": {
    "name": "ipython",
    "version": 3
   },
   "file_extension": ".py",
   "mimetype": "text/x-python",
   "name": "python",
   "nbconvert_exporter": "python",
   "pygments_lexer": "ipython3",
   "version": "3.12.2"
  }
 },
 "nbformat": 4,
 "nbformat_minor": 2
}
