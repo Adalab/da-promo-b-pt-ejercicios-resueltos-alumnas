{
 "cells": [
  {
   "cell_type": "code",
   "execution_count": 1,
   "metadata": {},
   "outputs": [],
   "source": [
    "# NUMPY\n",
    "import pandas as pd\n",
    "import numpy as np"
   ]
  },
  {
   "cell_type": "code",
   "execution_count": 52,
   "metadata": {},
   "outputs": [
    {
     "name": "stdout",
     "output_type": "stream",
     "text": [
      "[67 72 87 78 64 18 48 42 90 73 49 14 57 83 82 18 98 89 63 84 92 92 56 16\n",
      " 91 74 76 93 71 93 97 34 52 21 61 73 99 40 49 60 42 65 26 19 12 18 91 87\n",
      " 86 83]\n"
     ]
    },
    {
     "data": {
      "text/plain": [
       "array([64, 73, 82, 84, 91, 93, 61, 60, 12, 83])"
      ]
     },
     "execution_count": 52,
     "metadata": {},
     "output_type": "execute_result"
    }
   ],
   "source": [
    "# Creación e indexación\n",
    "# 1.1 Crea un array 1D con 50 valores aleatorio del 10 al 99. \n",
    "array1d = np.random.randint(10,100,(50))\n",
    "print (array1d)\n",
    "# 1.2 Accede a los elementos en las posiciones múltiplos de 5.\n",
    "array1d[4::5]"
   ]
  },
  {
   "cell_type": "code",
   "execution_count": 53,
   "metadata": {},
   "outputs": [
    {
     "name": "stdout",
     "output_type": "stream",
     "text": [
      "[13  1 10  8  8  3  7 15 18 16  7 20 13 16 16  4 12 11  2 11  7 13  3 18\n",
      " 14 20 16  9  8  9]\n"
     ]
    },
    {
     "data": {
      "text/plain": [
       "array([13, 10,  8,  7, 18,  7, 13, 16, 12,  2,  7,  3, 14, 16,  8])"
      ]
     },
     "execution_count": 53,
     "metadata": {},
     "output_type": "execute_result"
    }
   ],
   "source": [
    "# 2. Crea un array 1D con 30 valores del 1 al 20 (ambos incluidos). \n",
    "# Utiliza indexación para obtener los elementos en las posiciones impares.\n",
    "array1d =np.random.randint(1,21, (30))\n",
    "print (array1d)\n",
    "array1d[::2]"
   ]
  },
  {
   "cell_type": "code",
   "execution_count": 108,
   "metadata": {},
   "outputs": [
    {
     "name": "stdout",
     "output_type": "stream",
     "text": [
      "[[0.8066744  0.72840208 0.66050432 0.09198185 0.66400451 0.84960971]\n",
      " [0.07084945 0.30022351 0.99522646 0.12778371 0.23155302 0.98100081]\n",
      " [0.08397163 0.06626379 0.47692543 0.29248907 0.25822045 0.98903289]\n",
      " [0.19581925 0.5469863  0.6102526  0.22981013 0.42230193 0.32007913]]\n",
      "Esta es la ultima fila de la matriz: [[0.19581925 0.5469863  0.6102526  0.22981013 0.42230193 0.32007913]]\n",
      "Matriz redondeada: [[0.81 0.73 0.66 0.09 0.66 0.85]\n",
      " [0.07 0.3  1.   0.13 0.23 0.98]\n",
      " [0.08 0.07 0.48 0.29 0.26 0.99]\n",
      " [0.2  0.55 0.61 0.23 0.42 0.32]]\n",
      "Ultima fila matriz redondeada: [[0.2  0.55 0.61 0.23 0.42 0.32]]\n"
     ]
    }
   ],
   "source": [
    "# 3. Crea un array 2D de forma (4, 6) con números aleatorios decimales (no deben estar comprendidos solo entre 0 y 1). \n",
    "# Accede a la última fila de la matriz. Los decimales deben estar redondeados a 2 decimales.\n",
    "array2d = np.random.rand(4,6)\n",
    "print (array2d)\n",
    "print (\"Esta es la ultima fila de la matriz:\", array2d[-1::])\n",
    "array2d_round = np.round(array2d, 2)\n",
    "print ( \"Matriz redondeada:\" , array2d_round)\n",
    "print ( \"Ultima fila matriz redondeada:\", array2d_round[-1::])\n"
   ]
  },
  {
   "cell_type": "code",
   "execution_count": 129,
   "metadata": {},
   "outputs": [
    {
     "name": "stdout",
     "output_type": "stream",
     "text": [
      "Array 3d: [[[55 39 11  5 63]\n",
      "  [57  8 46 88 21]\n",
      "  [91 93 78 56 23]]\n",
      "\n",
      " [[68 46 93 33 50]\n",
      "  [77 36 10 48  9]\n",
      "  [25 95 61 41 70]]]\n",
      "máscara multiplos de 3:\n",
      "[[[False  True False False  True]\n",
      "  [ True False False False  True]\n",
      "  [False  True  True False False]]\n",
      "\n",
      " [[False False  True  True False]\n",
      "  [False  True False  True  True]\n",
      "  [False False False False False]]]\n",
      "Array multiplos 3 = 0\n",
      "[[[55  0 11  5  0]\n",
      "  [ 0  8 46 88  0]\n",
      "  [91  0  0 56 23]]\n",
      "\n",
      " [[68 46  0  0 50]\n",
      "  [77  0 10  0  0]\n",
      "  [25 95 61 41 70]]]\n"
     ]
    }
   ],
   "source": [
    "# 4. BONUS: Crea un array 3D de forma (2, 3, 5) y 30 elementos con números enteros entre 0 y 100 (ambos incluidos). \n",
    "array3d = np.random.randint(0,101,(2,3,5))\n",
    "print (\"Array 3d:\", array3d)\n",
    "type(array3d)\n",
    "# Reemplaza los elementos en posiciones múltiplos de 3 por 0.\n",
    "# Hay que crear una máscara booleana para identificar los múltiplos de 3 ( = True)\n",
    "mask_multiplos3 = (array3d % 3 == 0)\n",
    "print (\"máscara multiplos de 3:\")\n",
    "print(mask_multiplos3)\n",
    "# Reemplazar por 0 - Modificando directamente el array utilizando la máscara booleana\n",
    "array3d[mask_multiplos3] = 0\n",
    "print(\"Array multiplos 3 = 0\")\n",
    "print (array3d)"
   ]
  },
  {
   "cell_type": "code",
   "execution_count": 83,
   "metadata": {},
   "outputs": [
    {
     "name": "stdout",
     "output_type": "stream",
     "text": [
      "[[[10 44 39 75]\n",
      "  [17 61 29 84]\n",
      "  [98 90 93 60]]\n",
      "\n",
      " [[ 8  7 38 27]\n",
      "  [49 39  9 19]\n",
      "  [15 54 85 92]]]\n",
      "[[10 44 39 75]\n",
      " [17 61 29 84]\n",
      " [98 90 93 60]\n",
      " [ 8  7 38 27]\n",
      " [49 39  9 19]\n",
      " [15 54 85 92]]\n"
     ]
    }
   ],
   "source": [
    "# RESHAPE Y TRANSPOSE\n",
    "# Ejercicios con reshape:\n",
    "# 1.1 Crea un array 3D de forma (2, 3, 4) con valores aleatorios entre 1 y 100 (ambos inclusive). \n",
    "array3d = np.random.randint (1,101,(2,3,4))\n",
    "print (array3d)\n",
    "# 1.2 Utiliza reshape para convertirlo en un array 2D. Deberás pensar en la forma que es correcta para hacer este cambio.\n",
    "# Los datos del array3d en 2d tendrían la forma(6,4) (2*3)+ 4 columnas\n",
    "array_2d = array3d.reshape(-1, array3d.shape[-1]) # -1 se usa como marcador de posición para el tamaño de la primera dimensión, lo que permite a Numpy calcular automáticamente el tamaño apropiado en función del número total de elementos. array_3d.shape[-1] significa que mantenemos el tamaño de la última dimensión es la misma.\n",
    "print(array_2d)"
   ]
  },
  {
   "cell_type": "code",
   "execution_count": 88,
   "metadata": {},
   "outputs": [
    {
     "name": "stdout",
     "output_type": "stream",
     "text": [
      "[[[26 57 40 37 28]\n",
      "  [26 12 26  9 54]\n",
      "  [17 54  5  5 48]\n",
      "  [17 52 33  7 51]]\n",
      "\n",
      " [[ 5 13 32 15  2]\n",
      "  [18  6 52  3 52]\n",
      "  [45 43  6 46 57]\n",
      "  [53 21 21  3 19]]\n",
      "\n",
      " [[ 8 42  7  6 36]\n",
      "  [34 50  2 51 11]\n",
      "  [ 3  3 22 36 19]\n",
      "  [46 46 38 26 41]]]\n",
      "[[26 57 40 37 28]\n",
      " [26 12 26  9 54]\n",
      " [17 54  5  5 48]\n",
      " [17 52 33  7 51]\n",
      " [ 5 13 32 15  2]\n",
      " [18  6 52  3 52]\n",
      " [45 43  6 46 57]\n",
      " [53 21 21  3 19]\n",
      " [ 8 42  7  6 36]\n",
      " [34 50  2 51 11]\n",
      " [ 3  3 22 36 19]\n",
      " [46 46 38 26 41]]\n"
     ]
    }
   ],
   "source": [
    "# 2.1 Crea un array 3D de forma (3, 4, 5) con valores enteros del 1 al 61 (sin incluir). \n",
    "array_3d = np.random.randint(2, 60, (3,4,5))\n",
    "print (array_3d)\n",
    "# 2.2 Utiliza reshape para convertirlo en un array 2D.\n",
    "# Para 2D tendrá que tener shape: (12, 5)\n",
    "array_2d = array_3d.reshape(12,5)\n",
    "print (array_2d)"
   ]
  },
  {
   "cell_type": "code",
   "execution_count": 91,
   "metadata": {},
   "outputs": [
    {
     "name": "stdout",
     "output_type": "stream",
     "text": [
      "[[[26  5  8]\n",
      "  [26 18 34]\n",
      "  [17 45  3]\n",
      "  [17 53 46]]\n",
      "\n",
      " [[57 13 42]\n",
      "  [12  6 50]\n",
      "  [54 43  3]\n",
      "  [52 21 46]]\n",
      "\n",
      " [[40 32  7]\n",
      "  [26 52  2]\n",
      "  [ 5  6 22]\n",
      "  [33 21 38]]\n",
      "\n",
      " [[37 15  6]\n",
      "  [ 9  3 51]\n",
      "  [ 5 46 36]\n",
      "  [ 7  3 26]]\n",
      "\n",
      " [[28  2 36]\n",
      "  [54 52 11]\n",
      "  [48 57 19]\n",
      "  [51 19 41]]]\n"
     ]
    }
   ],
   "source": [
    "# Ejercicios con transpose\n",
    "# 3.1 Utiliza el array 3D del ejercicio 2 de reshape. \n",
    "# Utiliza transpose para permutar los ejes y obtener un nuevo array con forma (5, 4, 3).\n",
    "transpose_array_3d = array_3d.transpose()\n",
    "print (transpose_array_3d)\n"
   ]
  },
  {
   "cell_type": "code",
   "execution_count": 102,
   "metadata": {},
   "outputs": [
    {
     "name": "stdout",
     "output_type": "stream",
     "text": [
      "[[[26 57 40 37 28]\n",
      "  [26 12 26  9 54]\n",
      "  [17 54  5  5 48]\n",
      "  [17 52 33  7 51]]\n",
      "\n",
      " [[ 5 13 32 15  2]\n",
      "  [18  6 52  3 52]\n",
      "  [45 43  6 46 57]\n",
      "  [53 21 21  3 19]]\n",
      "\n",
      " [[ 8 42  7  6 36]\n",
      "  [34 50  2 51 11]\n",
      "  [ 3  3 22 36 19]\n",
      "  [46 46 38 26 41]]]\n"
     ]
    }
   ],
   "source": [
    "# 4.1  Utiliza el array 3D del ejercicio 2 de reshape. \n",
    "# Utiliza transpose para cambiar el orden de los ejes y obtener un nuevo array con forma (3, 5, 4).\n",
    "nuevo_transpose = np.transpose(array_3d, (0,1,2)) # el 3 lo mantego e invierto filas por columnas con 1 y 2.\n",
    "print (nuevo_transpose)\n"
   ]
  },
  {
   "cell_type": "code",
   "execution_count": null,
   "metadata": {},
   "outputs": [],
   "source": [
    "# Preguntas teóricas:\n",
    "# 1. ¿Qué diferencia existe entre el reshape y el transpose?\n",
    "# El reshape nos permite alterar las dimensiones de un array (pasarlo por ejemplo de 3 dimensiones a 2 o de 2 a 1), cambia la forma (shape) del array.\n",
    "# El transpose no cambia la forma del array en sí mismo solo mueve, desplaza, transpone sus valores. Intercambia sus posiciones.\n",
    "\n",
    "# 2. ¿Y entre el transpose y el swapaxes?\n",
    "# En el transpose podemos alterar todos los valores especificando la forma exacta. El swapaxes solo intercambia un eje por el otro. Esta es su sintaxis: swapped_arr_3d = np.swapaxes(arr_3d, 0, 2) Solo admite 2 ejes."
   ]
  },
  {
   "cell_type": "code",
   "execution_count": 121,
   "metadata": {},
   "outputs": [
    {
     "name": "stdout",
     "output_type": "stream",
     "text": [
      "[[[0.4 0.3 0.1 0.1 0.1]\n",
      "  [0.6 1.  0.1 0.9 0.8]\n",
      "  [0.9 1.  0.3 0.1 0.6]]\n",
      "\n",
      " [[0.5 0.5 0.5 0.3 0.8]\n",
      "  [0.5 0.1 0.5 0.1 0.8]\n",
      "  [0.8 0.3 0.2 0.7 0.4]]]\n"
     ]
    }
   ],
   "source": [
    "# FUNCIONES ARITMÉTICAS Y ESTADÍSTICAS:\n",
    "# 1 Crea un array de tres 3D con elementos entre el 0 y 1 de forma (2, 3, 5) cuyos valores solo tengan 1 decimal.\n",
    "# array = np.random.random_sample((2,3,5))\n",
    "# array_dec = np.round(array, 1)\n",
    "# Se puede hacer todo en una límnea asi: \n",
    "array = np.round(np.random.rand(2, 3, 5), 1)\n",
    "print (array)\n"
   ]
  },
  {
   "cell_type": "code",
   "execution_count": 127,
   "metadata": {},
   "outputs": [
    {
     "name": "stdout",
     "output_type": "stream",
     "text": [
      "Nuevo array modificado con letras\n",
      "[[['C' 'C' 'E' 'E' 'E']\n",
      "  ['B' 'D' 'E' 'B' 'B']\n",
      "  ['B' 'D' 'C' 'E' 'B']]\n",
      "\n",
      " [['B' 'B' 'B' 'C' 'B']\n",
      "  ['B' 'E' 'B' 'E' 'B']\n",
      "  ['B' 'C' 'C' 'B' 'C']]]\n"
     ]
    }
   ],
   "source": [
    "# 2. Crea un array vacío con la misma forma y dimensiones que el array creado anteriormente. Vamos a reemplazar los valores de la matriz vacía que nos acabamos de crear pero basándonos en los valores del primer array bajo las siguientes condiciones:\n",
    "array_vacio = np.empty (array.shape, dtype = str)\n",
    "# Calculo: La media de los elementos\n",
    "media = np.mean(array)\n",
    "# 2.1 Si el valor del array es igual que la media, se reemplaza por \"A\".\n",
    "array_vacio[array_3d == media] = 'A'\n",
    "# 2.2 Si el valor del array es mayor que la media, se reemplaza por \"B\".\n",
    "array_vacio[array > media] = \"B\"\n",
    "# 2.3 Si el valor del array es menor que la media, se reemplaza por \"C\".\n",
    "array_vacio [array < media] = \"C\"\n",
    "# 2.4 Si el valor es igual que el máximo, se reemplaza por \"D\".\n",
    "maximo = np.max(array)\n",
    "array_vacio [array == maximo] = \"D\"\n",
    "# 2.5 Si el valor es igual que el mínimo, se reemplaza por \"E\".\n",
    "minimo = np.min(array)\n",
    "array_vacio [array == minimo] = \"E\"\n",
    "print(\"Nuevo array modificado con letras\")\n",
    "print (array_vacio)"
   ]
  }
 ],
 "metadata": {
  "kernelspec": {
   "display_name": "base",
   "language": "python",
   "name": "python3"
  },
  "language_info": {
   "codemirror_mode": {
    "name": "ipython",
    "version": 3
   },
   "file_extension": ".py",
   "mimetype": "text/x-python",
   "name": "python",
   "nbconvert_exporter": "python",
   "pygments_lexer": "ipython3",
   "version": "3.11.7"
  }
 },
 "nbformat": 4,
 "nbformat_minor": 2
}
