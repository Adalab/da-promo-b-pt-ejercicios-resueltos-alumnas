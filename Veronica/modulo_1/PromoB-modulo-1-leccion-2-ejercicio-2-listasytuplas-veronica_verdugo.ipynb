{
 "cells": [
  {
   "cell_type": "code",
   "execution_count": 43,
   "metadata": {},
   "outputs": [
    {
     "name": "stdout",
     "output_type": "stream",
     "text": [
      "[2, 4, 6, 8, 2, 4, 6, 8]\n",
      "[1, 2, 3, 4, 5, 6]\n",
      "La suma de la lista es: 20\n",
      "el elemento máximo de la lista 2 es 6\n",
      "la lista1 tiene 6 elementos\n",
      "el elemento 5 de la lista1 ocupa el lugar  4\n",
      "el numero 5 aparece  1 vez en la lista1\n",
      "[1, 2, 3, 4, 5, 6, [4, 5, 6]]\n",
      "la sublista: [3, 4, 5]\n",
      "el ultimo elemento de la lista3 es 9\n",
      "el primer elemento de la lista 3 es  1\n",
      "la sublista nueva es [1, 2, 3]\n",
      "[2, 'estoy metiendo esto en la lista', 4, 6, 8]\n",
      "[9, 8, 7, 6, 5, 4, 3, 2, 1]\n",
      "lista ordenada ascendente [4, 7, 8, 20]\n"
     ]
    }
   ],
   "source": [
    "# LISTAS Y TUPLAS\n",
    "# Ejercicios de listas\n",
    "# 1 Duplicar elementos de una lista: Descripción: Dada una lista de números, duplica cada elemento en la lista.\n",
    "lista = [2 , 4 , 6 , 8]\n",
    "duplicar = lista *2\n",
    "print (duplicar)\n",
    "# Combinar dos listas\n",
    "lista1 = [1, 2, 3]\n",
    "lista2 = [4, 5, 6]\n",
    "lista1.extend (lista2)\n",
    "print  (lista1)\n",
    "#Calcular la suma de una lista de números\n",
    "suma = sum(lista)\n",
    "print (\"La suma de la lista es:\", suma)\n",
    "# Encontrar el valor maximo de una lista\n",
    "print(\"el elemento máximo de la lista 2 es\",  max(lista2))\n",
    "# calcular la longitud de una lista\n",
    "longitud = len(lista1)\n",
    "print (\"la lista1 tiene\", longitud, \"elementos\")\n",
    "# 6. Encontrar el indice de un elemento en una lista\n",
    "print (\"el elemento 5 de la lista1 ocupa el lugar \", (lista1.index(5)))\n",
    "# 7 Contar ocurrencias de un elemento en una lista\n",
    "print (\"el numero 5 aparece \", lista1.count(5),\"vez en la lista1\")\n",
    "# 8 obtener una sublista de una lista\n",
    "lista1.append(lista2)\n",
    "print (lista1)\n",
    "lista3 = [1,2,3,4,5,6,7,8,9]\n",
    "sublista = lista3[2:5]\n",
    "print (\"la sublista:\", sublista)\n",
    "#9 y 10 Obtener el ultimo elemento de una lista\n",
    "ultimo_elemento = lista3 [-1]\n",
    "print (\"el ultimo elemento de la lista3 es\", ultimo_elemento)\n",
    "primer_elemento = lista3[0]\n",
    "print (\"el primer elemento de la lista 3 es \", primer_elemento)\n",
    "# 11 Obtener una sublista de una lista desde el indice 1 al 3 sin incluirlo\n",
    "sublista2 = lista3[0:3]\n",
    "print (\"la sublista nueva es\", sublista2)\n",
    "# 12 reemplazar un elemento de la lista\n",
    "lista.insert(1, \"estoy metiendo esto en la lista\")\n",
    "print (lista)\n",
    "# 13 Obtén una lista inversa\n",
    "lista_inversa = list(reversed (lista3))\n",
    "print (lista_inversa)\n",
    "# Ordenar una lista en orden ascendente\n",
    "lista_a_ordenar = [4, 20 , 8 , 7]\n",
    "lista_a_ordenar.sort()\n",
    "print ( \"lista ordenada ascendente\", lista_a_ordenar)\n",
    "\n"
   ]
  },
  {
   "cell_type": "code",
   "execution_count": 77,
   "metadata": {},
   "outputs": [
    {
     "name": "stdout",
     "output_type": "stream",
     "text": [
      "[1, 2, 3, 4, 5, 6, 7, 8, 9, 10, 11, 12, 13, 14, 15, 16, 17, 18, 19, 20]\n",
      "[2, 4, 6, 8, 10, 12, 14, 16, 18, 20]\n",
      "Lista saltando de 3 en 3  [3, 6, 9, 12, 15, 18]\n",
      "el segundo máximo es 19\n"
     ]
    }
   ],
   "source": [
    "#BONUS\n",
    "# 15 Obtén solo los pares\n",
    "lista_bonus = list(range(1,21))\n",
    "print (lista_bonus)\n",
    "lista_pares = lista_bonus[1::2]\n",
    "print (lista_pares)\n",
    "# 16 salta elementos de 3 en 3\n",
    "lista_bonus3 = lista_bonus[2:21:3]\n",
    "print (\"Lista saltando de 3 en 3 \" , lista_bonus3)\n",
    "# 17 Encontrar el segundo valor maximo de la lista\n",
    "segundo_maximo = sorted(set (lista_bonus))[-2]\n",
    "print (\"el segundo máximo es\", segundo_maximo )\n",
    "\n"
   ]
  },
  {
   "cell_type": "markdown",
   "metadata": {},
   "source": [
    "18 Teórico. ¿Qué diferencia existe entre el .sort() y el sorted()\n",
    "sort significa ORGANIZAR, entonces cuando yo aplico .sort() a una lista concreta: lista.sort() y ejecuto, ordena la lista directamente y así se queda.\n",
    "SORTED es organizar en pasado, tengo que crear una nueva variable con ella para que me devuelva lo mismo que un sort pero en este caso no altera la lista original. "
   ]
  },
  {
   "cell_type": "code",
   "execution_count": 81,
   "metadata": {},
   "outputs": [
    {
     "name": "stdout",
     "output_type": "stream",
     "text": [
      "[2, 3, 4, 5, 7, 8, 9]\n",
      "[2, 3, 4, 5, 7, 8, 9, ['el ejemplo', 'de los apuntes', 'está', 'mal']]\n"
     ]
    }
   ],
   "source": [
    "# 19 Agregar elementos a una lista utilizando append y extend\n",
    "lista1 = [2,3,4,5]\n",
    "lista2 = [7,8,9]\n",
    "lista3= [\"el ejemplo\", \"de los apuntes\", \"está\" ,\"mal\"]\n",
    "\n",
    "lista1.extend(lista2)\n",
    "print (lista1)\n",
    "lista1.append(lista3)\n",
    "print (lista1)"
   ]
  },
  {
   "cell_type": "code",
   "execution_count": 93,
   "metadata": {},
   "outputs": [
    {
     "name": "stdout",
     "output_type": "stream",
     "text": [
      "Ya lo tienes: ['venga', ' que', ' seguro', 'que', 'puedes']\n"
     ]
    }
   ],
   "source": [
    "# 20 Insertar un elemento en una posición específica\n",
    "lista = input(\"Escribe 4 palabras separadas por comas: \").split(\",\")\n",
    "nuevo_elemento = input(\"escribe algo mas\")\n",
    "posicion = int(input(\" En que posición lo quieres poner\"))\n",
    "lista.insert (posicion, nuevo_elemento)\n",
    "print(\"Ya lo tienes:\", lista)"
   ]
  },
  {
   "cell_type": "code",
   "execution_count": 140,
   "metadata": {},
   "outputs": [
    {
     "name": "stdout",
     "output_type": "stream",
     "text": [
      "Esta la palabra que en la lista True\n",
      "¿cuantas veces? 1\n",
      "['venga', ' que', ' seguro', 'que', 'puedes']\n"
     ]
    },
    {
     "data": {
      "text/plain": [
       "1"
      ]
     },
     "execution_count": 140,
     "metadata": {},
     "output_type": "execute_result"
    }
   ],
   "source": [
    "# 21 Verificar si un elemento está presente en una lista\n",
    "\"que\" in lista\n",
    "print (\"Esta la palabra que en la lista\",(\"que\" in lista))\n",
    "print (\"¿cuantas veces?\", lista.count(\"que\")) #no lo entiendo la tengo dos veces\n",
    "print (lista)\n",
    "lista.count(\"que\")\n"
   ]
  },
  {
   "cell_type": "code",
   "execution_count": 138,
   "metadata": {},
   "outputs": [
    {
     "data": {
      "text/plain": [
       "2"
      ]
     },
     "execution_count": 138,
     "metadata": {},
     "output_type": "execute_result"
    }
   ],
   "source": [
    "contar_que= [\"venga\", \"que\", \"seguro\", \"que\", \"puedes\"]\n",
    "contar_que.count(\"que\")"
   ]
  },
  {
   "cell_type": "code",
   "execution_count": 144,
   "metadata": {},
   "outputs": [
    {
     "name": "stdout",
     "output_type": "stream",
     "text": [
      "['madre', 'de', 'esto', 'es', 'mas', 'largo', 'que', 'un', 'dia', 'sin', 'pan']\n",
      "mas\n",
      "['madre', 'de', 'esto', 'es', 'largo', 'que', 'un', 'dia', 'sin', 'pan']\n",
      "[]\n"
     ]
    }
   ],
   "source": [
    "# 22 Manipulación de una lista utilizando remove(), pop() y clear()\n",
    "lista22 = [\"madre\", \"de\", \"dios\", \"esto\", \"es\", \"mas\" ,\"largo\", \"que\", \"un\" , \"dia\", \"sin\", \"pan\"]\n",
    "lista22.remove (\"dios\")\n",
    "print (lista22)\n",
    "cuando_haces_pop= lista22.pop(4)\n",
    "print (cuando_haces_pop)\n",
    "print (lista22)\n",
    "lista22.clear()\n",
    "print (lista22)\n"
   ]
  },
  {
   "cell_type": "code",
   "execution_count": 169,
   "metadata": {},
   "outputs": [
    {
     "name": "stdout",
     "output_type": "stream",
     "text": [
      "El primer elemento de la tupla1 es 1\n",
      "el ultimo elemnto de la tupla 2 es 8\n",
      "la tupla11 tiene 4 elementos\n",
      "(1, 2, 3, 4, 5, 6, 7, 8)\n",
      "el lugar que ocupa el numero 5 en la tupla2 es 0\n",
      "Esta es la subtupla (6, 7, 8)\n",
      "La tupla invertida (4, 3, 2, 1)\n"
     ]
    }
   ],
   "source": [
    "# TUPLAS\n",
    "# 1 Acceder al primer elemento de una tupla\n",
    "tupla1 = (1,2,3,4)\n",
    "tupla2 = (5,6,7,8)\n",
    "primer_tupla = tupla1[0]\n",
    "print (\"El primer elemento de la tupla1 es\", primer_tupla)\n",
    "# 2 Acceder al último elemento de una tupla\n",
    "ultimo_tupla2 = tupla2[-1]\n",
    "print (\"el ultimo elemnto de la tupla 2 es\", ultimo_tupla2)\n",
    "# 3 Obtener la longitud de una tupla\n",
    "longitud_tupla = len(tupla1)\n",
    "print (\"la tupla11 tiene\", longitud_tupla, \"elementos\")\n",
    "# 4 Concatenar dos tuplas\n",
    "concatenar = tupla1 + tupla2\n",
    "print(concatenar)\n",
    "#5 Encontrar el índice de un elemento en una tupla\n",
    "print (\"el lugar que ocupa el numero 5 en la tupla2 es\" , tupla2.index(5))\n",
    "# 6 Contar ocurrencias de un elemento en una tupla\n",
    "tupla3= (1,1,1,3,4,5,7,9)\n",
    "tupla3.count(1)\n",
    "# 7 Obtener una subtuple de una tupla\n",
    "subtupla = tupla2[1:4]\n",
    "print (\"Esta es la subtupla\", (subtupla))\n",
    "\n",
    "# 8 Invertir una tupla\n",
    "tupla_reverse= tuple(reversed (tupla1))\n",
    "print (\"La tupla invertida\", (tupla_reverse))\n"
   ]
  }
 ],
 "metadata": {
  "kernelspec": {
   "display_name": "Python 3",
   "language": "python",
   "name": "python3"
  },
  "language_info": {
   "codemirror_mode": {
    "name": "ipython",
    "version": 3
   },
   "file_extension": ".py",
   "mimetype": "text/x-python",
   "name": "python",
   "nbconvert_exporter": "python",
   "pygments_lexer": "ipython3",
   "version": "3.12.3"
  }
 },
 "nbformat": 4,
 "nbformat_minor": 2
}
