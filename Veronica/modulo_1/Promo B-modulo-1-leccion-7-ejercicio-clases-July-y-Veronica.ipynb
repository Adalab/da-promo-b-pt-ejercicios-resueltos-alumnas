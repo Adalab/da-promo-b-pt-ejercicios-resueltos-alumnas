{
 "cells": [
  {
   "cell_type": "code",
   "execution_count": 9,
   "metadata": {},
   "outputs": [],
   "source": [
    "#Clases\n",
    "\n",
    "class Empleados:\n",
    "    \n",
    "    def __init__(self, nombre, apellidos , edad , posicion, año , vacaciones , herramientas):\n",
    "        self.nombre = nombre\n",
    "        self.apellidos = apellidos\n",
    "        self.edad = edad\n",
    "        self.posicion = posicion\n",
    "        self.año = año\n",
    "        self.vacaciones = vacaciones\n",
    "        self.herramientas = herramientas\n",
    "        self.dias_disponibles = \"dias de vacaciones disponibles\"\n",
    "\n"
   ]
  },
  {
   "cell_type": "code",
   "execution_count": null,
   "metadata": {},
   "outputs": [],
   "source": []
  },
  {
   "cell_type": "markdown",
   "metadata": {},
   "source": []
  },
  {
   "cell_type": "code",
   "execution_count": 24,
   "metadata": {},
   "outputs": [],
   "source": [
    "nombre = \"veronica\" \n",
    "posicion = \"alumna\"\n",
    "año = 1983\n",
    "vacaciones = 24\n",
    "herrmientas = \"cuchillo\" , \"inteligencia\" , \"sagacidad\" , \"python\" , \"excel\"\n"
   ]
  },
  {
   "cell_type": "code",
   "execution_count": 23,
   "metadata": {},
   "outputs": [
    {
     "data": {
      "text/plain": [
       "'nombre veronica posicion alumna año 1983 24 dias_disponibles'"
      ]
     },
     "execution_count": 23,
     "metadata": {},
     "output_type": "execute_result"
    }
   ],
   "source": [
    "f\"nombre {nombre} posicion {posicion} año {año} {vacaciones} dias_disponibles\""
   ]
  },
  {
   "cell_type": "code",
   "execution_count": 26,
   "metadata": {},
   "outputs": [],
   "source": [
    "def cambiando_posicion (self):\n",
    "    if self.herramientas == \"python\":\n",
    "        return \"Eres de las nuestras\"\n",
    "    elif self.herramientas == \"excel\":\n",
    "        return \"July es la mejor en excel\"\n",
    "    else:\n",
    "        return \"no sirves para nada\"\n"
   ]
  },
  {
   "cell_type": "code",
   "execution_count": null,
   "metadata": {},
   "outputs": [],
   "source": [
    " def rango_edad(self):\n",
    "        if self.edad < 2:\n",
    "            return \"junior\"\n",
    "        elif self.edad > 10:\n",
    "            return \"senior\"\n",
    "        else:\n",
    "            return \"adulto\"\n",
    "    \n",
    "    def vacunas(self, numero_vacunas):\n",
    "        \n",
    "        self.numero_vacunas = numero_vacunas\n",
    "        \n",
    "        if self.animal == \"gato\":\n",
    "            if numero_vacunas < 3:\n",
    "                return \"debes vacunar mas\"\n",
    "            else:\n",
    "                return \"tu gato esta bien\"\n",
    "            \n",
    "        elif self.animal == \"perro\":\n",
    "            \n",
    "            if numero_vacunas < 5:\n",
    "                return \"debes vacunar mas\"\n",
    "            else:\n",
    "                return \"tu gato esta bien\"\n",
    "     \n",
    "        else:\n",
    "               return \" no hace falta poner vacunas\"\n",
    "            "
   ]
  }
 ],
 "metadata": {
  "kernelspec": {
   "display_name": "Python 3",
   "language": "python",
   "name": "python3"
  },
  "language_info": {
   "codemirror_mode": {
    "name": "ipython",
    "version": 3
   },
   "file_extension": ".py",
   "mimetype": "text/x-python",
   "name": "python",
   "nbconvert_exporter": "python",
   "pygments_lexer": "ipython3",
   "version": "3.12.3"
  }
 },
 "nbformat": 4,
 "nbformat_minor": 2
}
