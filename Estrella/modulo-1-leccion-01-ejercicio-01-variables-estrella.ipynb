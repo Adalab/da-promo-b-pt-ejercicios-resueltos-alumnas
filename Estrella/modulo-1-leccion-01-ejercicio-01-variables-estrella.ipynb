{
 "cells": [
  {
   "cell_type": "markdown",
   "metadata": {},
   "source": [
    "# LECCION 01: EJERCICIOS VARIABLES"
   ]
  },
  {
   "cell_type": "code",
   "execution_count": 1,
   "metadata": {},
   "outputs": [
    {
     "name": "stdout",
     "output_type": "stream",
     "text": [
      "numero1\n",
      "numero2\n",
      "numero3\n"
     ]
    }
   ],
   "source": [
    "#crea tres variables numéricas de tipo entero, llamadas de la siguiente forma: nuemero 1 numero 2 numero 3\n",
    "\n",
    "variable_1 = \"numero1\"\n",
    "variable_2 = \"numero2\"\n",
    "variable_3 = \"numero3\"\n",
    "\n",
    "print (variable_1)\n",
    "print (variable_2)\n",
    "print (variable_3)"
   ]
  },
  {
   "cell_type": "code",
   "execution_count": 7,
   "metadata": {},
   "outputs": [
    {
     "name": "stdout",
     "output_type": "stream",
     "text": [
      "1\n",
      "2\n",
      "3\n"
     ]
    }
   ],
   "source": [
    "# Ahora creamos la varible numérica tipo entero que en python es un integer nos va a aparecer 1 2 y 3\n",
    "\n",
    "numero_1 = 1\n",
    "numero_2 = 2\n",
    "numero_3 = 3\n",
    "\n",
    "print (numero_1)\n",
    "print (numero_2)\n",
    "print (numero_3)\n"
   ]
  },
  {
   "cell_type": "code",
   "execution_count": 9,
   "metadata": {},
   "outputs": [
    {
     "name": "stdout",
     "output_type": "stream",
     "text": [
      "(1, 60)\n",
      "(1, 72)\n"
     ]
    }
   ],
   "source": [
    "# crea dos variables de tipo float (decimal) con dos desimales, llamas de la siguiente forma: altura1 altura2\n",
    "\n",
    "altura1 = 1,60\n",
    "altura2 = 1,72\n",
    "print (altura1)\n",
    "print (altura2)"
   ]
  },
  {
   "cell_type": "code",
   "execution_count": 25,
   "metadata": {},
   "outputs": [
    {
     "data": {
      "text/plain": [
       "3.3"
      ]
     },
     "execution_count": 25,
     "metadata": {},
     "output_type": "execute_result"
    }
   ],
   "source": [
    "# ¿cual es la suma de las dos alturas?\n",
    "altura1 = 1.60\n",
    "altura2 = 1.72\n",
    "1.60 + 1.70\n"
   ]
  },
  {
   "cell_type": "code",
   "execution_count": null,
   "metadata": {},
   "outputs": [
    {
     "data": {
      "text/plain": [
       "-0.09999999999999987"
      ]
     },
     "execution_count": 31,
     "metadata": {},
     "output_type": "execute_result"
    }
   ],
   "source": [
    "# ¿cual es la diferencia de las dos alturas?\n",
    "\n",
    "1.60 - 1.70\n"
   ]
  },
  {
   "cell_type": "code",
   "execution_count": null,
   "metadata": {},
   "outputs": [
    {
     "data": {
      "text/plain": [
       "0.9411764705882354"
      ]
     },
     "execution_count": 32,
     "metadata": {},
     "output_type": "execute_result"
    }
   ],
   "source": [
    "# ¿cual es la divsión de las dos alturas?\n",
    "1.60 / 1.70\n"
   ]
  },
  {
   "cell_type": "code",
   "execution_count": null,
   "metadata": {},
   "outputs": [],
   "source": [
    "# ¿cual es el resultado de la división de las dos alturas, redondeado el rsultado a un decimal?\n"
   ]
  },
  {
   "cell_type": "code",
   "execution_count": 4,
   "metadata": {},
   "outputs": [],
   "source": [
    "# Escribid un programa usando funcion input() que le pregunta al usuario su nombre y apellido\n",
    "\n",
    "nombre = \"alicia\"\n",
    "apellido1 = \"pais\"\n",
    "apellido2 = \"maravilla\"\n"
   ]
  },
  {
   "cell_type": "code",
   "execution_count": 5,
   "metadata": {},
   "outputs": [
    {
     "name": "stdout",
     "output_type": "stream",
     "text": [
      "alicia pais maravilla\n"
     ]
    }
   ],
   "source": [
    "nombre_completo = nombre + \" \" + apellido1 + \" \" + apellido2\n",
    "print(nombre_completo)"
   ]
  },
  {
   "cell_type": "code",
   "execution_count": 6,
   "metadata": {},
   "outputs": [
    {
     "name": "stdout",
     "output_type": "stream",
     "text": [
      "alicia pais maravilla\n"
     ]
    }
   ],
   "source": [
    "# Escribid un programa usando funcion input() que le pregunta al usuario su nombre y apellido\n",
    "nombre_completo = input()\n",
    "print (nombre_completo)"
   ]
  },
  {
   "cell_type": "code",
   "execution_count": 12,
   "metadata": {},
   "outputs": [
    {
     "name": "stdout",
     "output_type": "stream",
     "text": [
      "alicia pais maravilla\n"
     ]
    }
   ],
   "source": [
    "print(nombre, apellido1, apellido2)"
   ]
  },
  {
   "cell_type": "code",
   "execution_count": 18,
   "metadata": {},
   "outputs": [
    {
     "name": "stdout",
     "output_type": "stream",
     "text": [
      "ALICIA PAIS MARAVILLA\n"
     ]
    }
   ],
   "source": [
    "\n",
    "# una vez que tenemos el nombre de la persona usaria: imprimir su nombre y apellidos en mayúsculas\n",
    "print(nombre_completo.upper())"
   ]
  },
  {
   "cell_type": "code",
   "execution_count": 23,
   "metadata": {},
   "outputs": [
    {
     "name": "stdout",
     "output_type": "stream",
     "text": [
      "alicia\n"
     ]
    }
   ],
   "source": [
    "# imprimir el nombre en minusculas\n",
    "print(nombre.lower())"
   ]
  },
  {
   "cell_type": "code",
   "execution_count": 27,
   "metadata": {},
   "outputs": [
    {
     "name": "stdout",
     "output_type": "stream",
     "text": [
      "Alicia Pais Maravilla\n"
     ]
    }
   ],
   "source": [
    "#Printead su nombre y apellidos con la primera letra del nombre y los apellidos en mayusculas\n",
    "#y el resto en minusculas\n",
    "print(nombre_completo.title())"
   ]
  },
  {
   "cell_type": "code",
   "execution_count": 32,
   "metadata": {},
   "outputs": [
    {
     "name": "stdout",
     "output_type": "stream",
     "text": [
      "Alicia pais maravilla\n"
     ]
    }
   ],
   "source": [
    "#printead solo la primera letra del nombre en mayusculas\n",
    "\n",
    "print(nombre.title(), apellido1, apellido2)"
   ]
  },
  {
   "cell_type": "code",
   "execution_count": 39,
   "metadata": {},
   "outputs": [],
   "source": [
    "# Escribid un programa usando la funcion input()que:\n",
    "# le pregunte a la persona usuaria por la lista de la compra, separando cada elemento por comas\n",
    "# devolved la lista de compra donde veamos cada elemento en una linea \n",
    "\n",
    "compra1 = \"pera\"\n",
    "compra2 = \"manzana\"\n",
    "compra3 = \"platanos\"\n",
    "lista_de_compra = [\"pera\", \"manzana\", \"platanos\"]\n"
   ]
  },
  {
   "cell_type": "code",
   "execution_count": 49,
   "metadata": {},
   "outputs": [
    {
     "name": "stdout",
     "output_type": "stream",
     "text": [
      "platanos\n"
     ]
    }
   ],
   "source": [
    "lista_compra = input()\n",
    "print (lista_compra)"
   ]
  },
  {
   "cell_type": "code",
   "execution_count": 50,
   "metadata": {},
   "outputs": [],
   "source": [
    "lista_compra = \"pera, manzana, platanos\""
   ]
  },
  {
   "cell_type": "code",
   "execution_count": 51,
   "metadata": {},
   "outputs": [
    {
     "data": {
      "text/plain": [
       "['pera,', 'manzana,', 'platanos']"
      ]
     },
     "execution_count": 51,
     "metadata": {},
     "output_type": "execute_result"
    }
   ],
   "source": [
    "lista_de_compra_separada = lista_compra.split()\n",
    "lista_de_compra_separada\n",
    "\n"
   ]
  },
  {
   "cell_type": "code",
   "execution_count": 57,
   "metadata": {},
   "outputs": [
    {
     "name": "stdout",
     "output_type": "stream",
     "text": [
      "('pera', 'manzana', 'platanos')\n"
     ]
    }
   ],
   "source": [
    "resultado_del_input = [\"peras\", \"manzana\", \"platanos\"]\n",
    "lista_compra = (compra1, compra2,compra3)\n",
    "print (lista_compra)\n"
   ]
  },
  {
   "cell_type": "code",
   "execution_count": 62,
   "metadata": {},
   "outputs": [
    {
     "data": {
      "text/plain": [
       "'pera manzana platanos'"
      ]
     },
     "execution_count": 62,
     "metadata": {},
     "output_type": "execute_result"
    }
   ],
   "source": [
    "resultado_del_input = \" \".join(lista_compra)\n",
    "resultado_del_input"
   ]
  },
  {
   "cell_type": "code",
   "execution_count": 79,
   "metadata": {},
   "outputs": [],
   "source": [
    "lista_compra1 = \"peras manzanas platanos\""
   ]
  },
  {
   "cell_type": "code",
   "execution_count": 95,
   "metadata": {},
   "outputs": [
    {
     "data": {
      "text/plain": [
       "['peras', 'manzanas', 'platanos']"
      ]
     },
     "execution_count": 95,
     "metadata": {},
     "output_type": "execute_result"
    }
   ],
   "source": [
    "resultado_separado = lista_compra1.split()\n",
    "resultado_separado"
   ]
  },
  {
   "cell_type": "code",
   "execution_count": 96,
   "metadata": {},
   "outputs": [
    {
     "data": {
      "text/plain": [
       "['peras manzanas platanos']"
      ]
     },
     "execution_count": 96,
     "metadata": {},
     "output_type": "execute_result"
    }
   ],
   "source": [
    "\n",
    "resultado_separado = lista_compra1.split(\"\\n\")\n",
    "resultado_separado"
   ]
  },
  {
   "cell_type": "code",
   "execution_count": 97,
   "metadata": {},
   "outputs": [
    {
     "data": {
      "text/plain": [
       "'p e r a s   m a n z a n a s   p l a t a n o s'"
      ]
     },
     "execution_count": 97,
     "metadata": {},
     "output_type": "execute_result"
    }
   ],
   "source": [
    "resultado_separado = \" \".join(lista_compra1)\n",
    "resultado_separado"
   ]
  },
  {
   "cell_type": "code",
   "execution_count": 98,
   "metadata": {},
   "outputs": [
    {
     "ename": "NameError",
     "evalue": "name 'don_quijote' is not defined",
     "output_type": "error",
     "traceback": [
      "\u001b[0;31m---------------------------------------------------------------------------\u001b[0m",
      "\u001b[0;31mNameError\u001b[0m                                 Traceback (most recent call last)",
      "Cell \u001b[0;32mIn[98], line 1\u001b[0m\n\u001b[0;32m----> 1\u001b[0m don_quijote_separado \u001b[38;5;241m=\u001b[39m \u001b[43mdon_quijote\u001b[49m\u001b[38;5;241m.\u001b[39msplit()\n\u001b[1;32m      2\u001b[0m don_quijote_separado\n",
      "\u001b[0;31mNameError\u001b[0m: name 'don_quijote' is not defined"
     ]
    }
   ],
   "source": [
    "\n",
    "don_quijote_separado = don_quijote.split()\n",
    "don_quijote_separado"
   ]
  },
  {
   "cell_type": "code",
   "execution_count": null,
   "metadata": {},
   "outputs": [],
   "source": [
    "don_quijote_separado = don_quijote.split(\"\\n\")\n",
    "don_quijote_separado"
   ]
  }
 ],
 "metadata": {
  "kernelspec": {
   "display_name": "Python 3",
   "language": "python",
   "name": "python3"
  },
  "language_info": {
   "codemirror_mode": {
    "name": "ipython",
    "version": 3
   },
   "file_extension": ".py",
   "mimetype": "text/x-python",
   "name": "python",
   "nbconvert_exporter": "python",
   "pygments_lexer": "ipython3",
   "version": "3.8.9"
  }
 },
 "nbformat": 4,
 "nbformat_minor": 2
}
