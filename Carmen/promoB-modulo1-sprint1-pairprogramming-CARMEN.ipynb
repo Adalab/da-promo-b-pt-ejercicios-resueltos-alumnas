{
 "cells": [
  {
   "cell_type": "markdown",
   "metadata": {},
   "source": [
    "# Pair programing Listas y Tuplas   \n",
    "### Carmen"
   ]
  },
  {
   "cell_type": "code",
   "execution_count": 78,
   "metadata": {},
   "outputs": [
    {
     "name": "stdout",
     "output_type": "stream",
     "text": [
      "[[2, 4, 6, 8, 2, 4, 6, 8]]\n"
     ]
    }
   ],
   "source": [
    "#Vamos a duplicar los valores de la lista [2, 4, 6, 8]\n",
    "lista = [2,4,6,8]\n",
    "\n",
    "lista_dup = [lista*2]\n",
    "print(lista_dup)"
   ]
  },
  {
   "cell_type": "code",
   "execution_count": 79,
   "metadata": {},
   "outputs": [],
   "source": [
    "#  Dadas dos listas, crea una nueva lista que contenga todos los elementos de ambas listas\n",
    "lista1 = [1, 2, 3]\n",
    "lista2 = [4, 5, 6]"
   ]
  },
  {
   "cell_type": "code",
   "execution_count": 80,
   "metadata": {},
   "outputs": [
    {
     "name": "stdout",
     "output_type": "stream",
     "text": [
      "[[1, 2, 3, 4, 5, 6]]\n"
     ]
    }
   ],
   "source": [
    "lista3 = [lista1 + lista2]\n",
    "print (lista3)"
   ]
  },
  {
   "cell_type": "code",
   "execution_count": 81,
   "metadata": {},
   "outputs": [
    {
     "data": {
      "text/plain": [
       "14"
      ]
     },
     "execution_count": 81,
     "metadata": {},
     "output_type": "execute_result"
    }
   ],
   "source": [
    "# Calcular la suma de una lista de números\n",
    "\n",
    "lista4 = [2,3,4,5]\n",
    "sum(lista4)"
   ]
  },
  {
   "cell_type": "code",
   "execution_count": 82,
   "metadata": {},
   "outputs": [
    {
     "name": "stdout",
     "output_type": "stream",
     "text": [
      "minima de la lista 2\n",
      "maxima de la lista 5\n"
     ]
    }
   ],
   "source": [
    "# Encontrar el valor máximo/minimo en una lista\n",
    "minima = min(lista4)\n",
    "maxima = max(lista4)\n",
    "\n",
    "print(\"minima de la lista\",minima)\n",
    "print(\"maxima de la lista\",maxima)"
   ]
  },
  {
   "cell_type": "code",
   "execution_count": 83,
   "metadata": {},
   "outputs": [
    {
     "data": {
      "text/plain": [
       "4"
      ]
     },
     "execution_count": 83,
     "metadata": {},
     "output_type": "execute_result"
    }
   ],
   "source": [
    "# Calcular la longitud de una lista\n",
    "len(lista4)"
   ]
  },
  {
   "cell_type": "code",
   "execution_count": 84,
   "metadata": {},
   "outputs": [
    {
     "name": "stdout",
     "output_type": "stream",
     "text": [
      "¿En que posición esta el número 5'? Esta en el índice 3\n"
     ]
    }
   ],
   "source": [
    "# Indice de un elemento en la lista\n",
    "\n",
    "print(\"¿En que posición esta el número 5'? Esta en el índice\", lista4.index(5))\n"
   ]
  },
  {
   "cell_type": "code",
   "execution_count": 85,
   "metadata": {},
   "outputs": [],
   "source": [
    "# Contar  un elemento en una lista\n",
    "\n",
    "letras = [\"A\", \"B\", \"C\", \"D\", \"A\", \"J\"]\n",
    "\n"
   ]
  },
  {
   "cell_type": "code",
   "execution_count": 86,
   "metadata": {},
   "outputs": [
    {
     "name": "stdout",
     "output_type": "stream",
     "text": [
      "\n",
      "La letra repetida:  2\n"
     ]
    }
   ],
   "source": [
    "print(\"\\nLa letra repetida: \", letras.count(\"A\"))"
   ]
  },
  {
   "cell_type": "code",
   "execution_count": 87,
   "metadata": {},
   "outputs": [],
   "source": [
    "#Obtener una sublista de una lista"
   ]
  },
  {
   "cell_type": "code",
   "execution_count": 88,
   "metadata": {},
   "outputs": [],
   "source": [
    "# Reemplazar un elemento en una lista\n",
    "\n"
   ]
  },
  {
   "cell_type": "code",
   "execution_count": 90,
   "metadata": {},
   "outputs": [
    {
     "name": "stdout",
     "output_type": "stream",
     "text": [
      "['A', 'B', 'C', 'D', 'A', 'J']\n"
     ]
    }
   ],
   "source": [
    "# Obtener una lista inversa\n",
    "letras = letras.copy()\n",
    "print(letras)\n",
    "\n",
    "\n"
   ]
  },
  {
   "cell_type": "code",
   "execution_count": 91,
   "metadata": {},
   "outputs": [
    {
     "name": "stdout",
     "output_type": "stream",
     "text": [
      "['J', 'A', 'D', 'C', 'B', 'A']\n"
     ]
    }
   ],
   "source": [
    "letras.reverse()\n",
    "print(letras)"
   ]
  },
  {
   "cell_type": "code",
   "execution_count": 92,
   "metadata": {},
   "outputs": [],
   "source": [
    "# Ordenar una lista en orden ascendente\n",
    "numeros = [14,5,3,14,15,17,75,103]"
   ]
  },
  {
   "cell_type": "code",
   "execution_count": 94,
   "metadata": {},
   "outputs": [
    {
     "name": "stdout",
     "output_type": "stream",
     "text": [
      "[3, 5, 14, 14, 15, 17, 75, 103]\n"
     ]
    }
   ],
   "source": [
    "numeros.sort()\n",
    "print(numeros)"
   ]
  },
  {
   "cell_type": "markdown",
   "metadata": {},
   "source": [
    "***Queda pendiente el BONUS.***"
   ]
  }
 ],
 "metadata": {
  "kernelspec": {
   "display_name": "base",
   "language": "python",
   "name": "python3"
  },
  "language_info": {
   "codemirror_mode": {
    "name": "ipython",
    "version": 3
   },
   "file_extension": ".py",
   "mimetype": "text/x-python",
   "name": "python",
   "nbconvert_exporter": "python",
   "pygments_lexer": "ipython3",
   "version": "3.11.7"
  }
 },
 "nbformat": 4,
 "nbformat_minor": 2
}
