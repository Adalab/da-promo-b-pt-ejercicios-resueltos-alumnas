{
 "cells": [
  {
   "cell_type": "code",
   "execution_count": 7,
   "metadata": {},
   "outputs": [],
   "source": [
    "# 1.Crear la variable gatos que además tendrá el valor de 8\n",
    "gatos =  8"
   ]
  },
  {
   "cell_type": "code",
   "execution_count": 8,
   "metadata": {},
   "outputs": [],
   "source": [
    "# 2.Crear la variable perros que almacena el texto cuatro\n",
    "perros = 'cuatro'"
   ]
  },
  {
   "cell_type": "code",
   "execution_count": 9,
   "metadata": {},
   "outputs": [
    {
     "data": {
      "text/plain": [
       "8"
      ]
     },
     "execution_count": 9,
     "metadata": {},
     "output_type": "execute_result"
    }
   ],
   "source": [
    "# 3.Imprimir la variable gatos\n",
    "gatos"
   ]
  },
  {
   "cell_type": "code",
   "execution_count": 10,
   "metadata": {},
   "outputs": [
    {
     "data": {
      "text/plain": [
       "'cuatro'"
      ]
     },
     "execution_count": 10,
     "metadata": {},
     "output_type": "execute_result"
    }
   ],
   "source": [
    "# 4. Imprimir la variable perros\n",
    "perros"
   ]
  },
  {
   "cell_type": "code",
   "execution_count": 11,
   "metadata": {},
   "outputs": [
    {
     "name": "stdout",
     "output_type": "stream",
     "text": [
      "cuatro más perros\n"
     ]
    }
   ],
   "source": [
    "# 5. Imprimir la variable perros seguido de \"más\" seguido de la palabra perros\n",
    "print(perros, 'más perros')            "
   ]
  },
  {
   "cell_type": "code",
   "execution_count": 12,
   "metadata": {},
   "outputs": [
    {
     "name": "stdout",
     "output_type": "stream",
     "text": [
      "cuatro más cuatro es igual a 8\n"
     ]
    }
   ],
   "source": [
    "# 6.Usando la variable perros haced que el ordenador devuelva el siguiente texto: cuatro más \n",
    "# cuatro es igual a 8.\n",
    "print(perros, 'más', perros, 'es igual a 8')"
   ]
  },
  {
   "cell_type": "code",
   "execution_count": 13,
   "metadata": {},
   "outputs": [
    {
     "name": "stdout",
     "output_type": "stream",
     "text": [
      "cuatro + cuatro = 8\n"
     ]
    }
   ],
   "source": [
    "# 7.Usando la variable perros haced que el ordenador devuelva el siguiente texto: cuato + \n",
    "# cuatro  = 8\n",
    "print(perros, '+', perros, '=', 8)"
   ]
  },
  {
   "cell_type": "code",
   "execution_count": 14,
   "metadata": {},
   "outputs": [
    {
     "data": {
      "text/plain": [
       "float"
      ]
     },
     "execution_count": 14,
     "metadata": {},
     "output_type": "execute_result"
    }
   ],
   "source": [
    "# 8. Definir la variable pizzas con un valor de 2 de tipo float\n",
    "pizzas = 2.0\n",
    "\n",
    "#Compruebo que realmente es de tipo float. Esto resuelve el ejercicio 11: ¿Qué tipo de dato \n",
    "#es la variable pizzas?\n",
    "type(pizzas)"
   ]
  },
  {
   "cell_type": "code",
   "execution_count": 15,
   "metadata": {},
   "outputs": [
    {
     "data": {
      "text/plain": [
       "str"
      ]
     },
     "execution_count": 15,
     "metadata": {},
     "output_type": "execute_result"
    }
   ],
   "source": [
    "# 9. Definir la variable magdalenas con un valor de 2 tipo string\n",
    "magdalenas = '2'\n",
    "\n",
    "#Compruebo que realmente es de tipo string. Esto resuelve el ejercicio 12: ¿Es la variable\n",
    "# magdalenas de tipo string?\n",
    "type(magdalenas)"
   ]
  },
  {
   "cell_type": "code",
   "execution_count": 16,
   "metadata": {},
   "outputs": [
    {
     "data": {
      "text/plain": [
       "int"
      ]
     },
     "execution_count": 16,
     "metadata": {},
     "output_type": "execute_result"
    }
   ],
   "source": [
    "# 10. Definir la variable postres con un valor de 0 tipo integer\n",
    "postres = 0\n",
    "\n",
    "#Compruebo que realmente es de tipo integer\n",
    "type (postres)"
   ]
  },
  {
   "cell_type": "code",
   "execution_count": 17,
   "metadata": {},
   "outputs": [
    {
     "data": {
      "text/plain": [
       "0"
      ]
     },
     "execution_count": 17,
     "metadata": {},
     "output_type": "execute_result"
    }
   ],
   "source": [
    "# 11. Ver ejercicio 8\n",
    "# 12. Ver ejercicio 9\n",
    "# 13. Definir postres con un valor de 0. Está hecho en el ejercicio 10\n",
    "postres"
   ]
  },
  {
   "cell_type": "code",
   "execution_count": 18,
   "metadata": {},
   "outputs": [
    {
     "data": {
      "text/plain": [
       "10.0"
      ]
     },
     "execution_count": 18,
     "metadata": {},
     "output_type": "execute_result"
    }
   ],
   "source": [
    "#14. Calculas la suma de gatos y pizzas\n",
    "gatos + pizzas\n"
   ]
  },
  {
   "cell_type": "code",
   "execution_count": 19,
   "metadata": {},
   "outputs": [
    {
     "data": {
      "text/plain": [
       "6.0"
      ]
     },
     "execution_count": 19,
     "metadata": {},
     "output_type": "execute_result"
    }
   ],
   "source": [
    "#15. Clacular la diferencia entre gatos y pizzas\n",
    "gatos - pizzas\n"
   ]
  },
  {
   "cell_type": "code",
   "execution_count": 20,
   "metadata": {},
   "outputs": [
    {
     "data": {
      "text/plain": [
       "16"
      ]
     },
     "execution_count": 20,
     "metadata": {},
     "output_type": "execute_result"
    }
   ],
   "source": [
    "#16. Multiplicar la cantidad de gatos por 2\n",
    "gatos * 2\n"
   ]
  },
  {
   "cell_type": "code",
   "execution_count": 21,
   "metadata": {},
   "outputs": [
    {
     "data": {
      "text/plain": [
       "16.0"
      ]
     },
     "execution_count": 21,
     "metadata": {},
     "output_type": "execute_result"
    }
   ],
   "source": [
    "#17. Crear la variable piezas que sea 8 veces la cantidad de pizzas.\n",
    "piezas = 8 * pizzas\n",
    "\n",
    "#Compruebo que es correcto\n",
    "piezas\n"
   ]
  },
  {
   "cell_type": "code",
   "execution_count": 22,
   "metadata": {},
   "outputs": [
    {
     "data": {
      "text/plain": [
       "19.0"
      ]
     },
     "execution_count": 22,
     "metadata": {},
     "output_type": "execute_result"
    }
   ],
   "source": [
    "#18. Aumentar en 3 la pcantidad de piezas\n",
    "piezas = piezas + 3\n",
    "\n",
    "#Compruebo el resultado\n",
    "piezas\n"
   ]
  },
  {
   "cell_type": "code",
   "execution_count": 23,
   "metadata": {},
   "outputs": [
    {
     "data": {
      "text/plain": [
       "81"
      ]
     },
     "execution_count": 23,
     "metadata": {},
     "output_type": "execute_result"
    }
   ],
   "source": [
    "#19. Calcula el cuadrado de 9 y guárdalo en una varible llamada superficie\n",
    "superficie = 9**2\n",
    "\n",
    "#Comrpuebo el resultado\n",
    "superficie\n"
   ]
  },
  {
   "cell_type": "code",
   "execution_count": 24,
   "metadata": {},
   "outputs": [
    {
     "data": {
      "text/plain": [
       "10.125"
      ]
     },
     "execution_count": 24,
     "metadata": {},
     "output_type": "execute_result"
    }
   ],
   "source": [
    "#20. ¿Cuánta superficie hay por gato?\n",
    "superficie / gatos\n"
   ]
  },
  {
   "cell_type": "code",
   "execution_count": 25,
   "metadata": {},
   "outputs": [
    {
     "data": {
      "text/plain": [
       "2.0"
      ]
     },
     "execution_count": 25,
     "metadata": {},
     "output_type": "execute_result"
    }
   ],
   "source": [
    "#21. ¿Cuántas piezas enteras hay por gato?\n",
    "piezas // gatos\n"
   ]
  },
  {
   "cell_type": "code",
   "execution_count": 26,
   "metadata": {},
   "outputs": [
    {
     "data": {
      "text/plain": [
       "-149.0"
      ]
     },
     "execution_count": 26,
     "metadata": {},
     "output_type": "execute_result"
    }
   ],
   "source": [
    "#22. ¿Cuántas piezas te quedan si cada gato se come 21 piezas?\n",
    "piezas = piezas - 21*gatos\n",
    "piezas"
   ]
  },
  {
   "cell_type": "code",
   "execution_count": 27,
   "metadata": {},
   "outputs": [
    {
     "data": {
      "text/plain": [
       "10.1"
      ]
     },
     "execution_count": 27,
     "metadata": {},
     "output_type": "execute_result"
    }
   ],
   "source": [
    "# 23. Calcula la superficie que hay por gato ¿en metros cuadrados? con un solo decimal en una \n",
    "#sola linea y con un solo print\n",
    "round(superficie/gatos, 1)\n",
    "#No sé si el resultado está en metros cuadrados porque no sé las unidades de la variable superficie\n",
    "#Si quiero forzar que imprima el resultado, independientemente de las salidas que hay en una cuadro de código, escribiré \n",
    "# print(round(superficie/gatos, 1))\n"
   ]
  },
  {
   "cell_type": "code",
   "execution_count": 28,
   "metadata": {},
   "outputs": [
    {
     "data": {
      "text/plain": [
       "True"
      ]
     },
     "execution_count": 28,
     "metadata": {},
     "output_type": "execute_result"
    }
   ],
   "source": [
    "# 24. ¿Es verdad que hay más gatos que pizzas?\n",
    "gatos > pizzas\n"
   ]
  },
  {
   "cell_type": "code",
   "execution_count": 29,
   "metadata": {},
   "outputs": [
    {
     "data": {
      "text/plain": [
       "True"
      ]
     },
     "execution_count": 29,
     "metadata": {},
     "output_type": "execute_result"
    }
   ],
   "source": [
    "# 25. ¿Es verdad que hay menos gatos que superficie?\n",
    "gatos < superficie\n"
   ]
  },
  {
   "cell_type": "code",
   "execution_count": 30,
   "metadata": {},
   "outputs": [
    {
     "data": {
      "text/plain": [
       "True"
      ]
     },
     "execution_count": 30,
     "metadata": {},
     "output_type": "execute_result"
    }
   ],
   "source": [
    "# 26. ¿Es verdad que 2 veces la cantidad de pizzas es distinto que la cantidad de gatos?\n",
    "2  *pizzas != gatos\n"
   ]
  },
  {
   "cell_type": "code",
   "execution_count": 31,
   "metadata": {},
   "outputs": [
    {
     "data": {
      "text/plain": [
       "False"
      ]
     },
     "execution_count": 31,
     "metadata": {},
     "output_type": "execute_result"
    }
   ],
   "source": [
    "# 27. ¿Es flaso que 2 veces la cantidad de pizzas es igual que la cantidad de gatos?\n",
    "2 * pizzas == gatos\n"
   ]
  },
  {
   "cell_type": "code",
   "execution_count": 32,
   "metadata": {},
   "outputs": [
    {
     "data": {
      "text/plain": [
       "False"
      ]
     },
     "execution_count": 32,
     "metadata": {},
     "output_type": "execute_result"
    }
   ],
   "source": [
    "# 28. La variable piezas es mayor o igual a pizzas y superficie es distinto de de cero?\n",
    "piezas >= pizzas and superficie != 0\n"
   ]
  },
  {
   "cell_type": "code",
   "execution_count": 33,
   "metadata": {},
   "outputs": [
    {
     "data": {
      "text/plain": [
       "False"
      ]
     },
     "execution_count": 33,
     "metadata": {},
     "output_type": "execute_result"
    }
   ],
   "source": [
    "# 29. La variable piezas es mayor o igual a pizzas y menor que superficie?\n",
    "piezas >= pizzas and piezas < superficie\n"
   ]
  },
  {
   "cell_type": "code",
   "execution_count": 34,
   "metadata": {},
   "outputs": [
    {
     "data": {
      "text/plain": [
       "False"
      ]
     },
     "execution_count": 34,
     "metadata": {},
     "output_type": "execute_result"
    }
   ],
   "source": [
    "# 30. ¿Hay más pizzas que gatos o el residuo de piezas por gato es cero?\n",
    "(pizzas > gatos) or (piezas % gatos == 0) #Añado paréntesis para que sea más fácil de leer no porque realmente sean necesarios\n",
    "\n"
   ]
  },
  {
   "cell_type": "code",
   "execution_count": 35,
   "metadata": {},
   "outputs": [
    {
     "data": {
      "text/plain": [
       "False"
      ]
     },
     "execution_count": 35,
     "metadata": {},
     "output_type": "execute_result"
    }
   ],
   "source": [
    "# 31. Comprobar las comparaciones de 29 en una sola línea sin usar la variable piezas más que una sola vez\n",
    "superficie > piezas >= pizzas"
   ]
  },
  {
   "cell_type": "code",
   "execution_count": 36,
   "metadata": {},
   "outputs": [
    {
     "data": {
      "text/plain": [
       "True"
      ]
     },
     "execution_count": 36,
     "metadata": {},
     "output_type": "execute_result"
    }
   ],
   "source": [
    "# 32. Comprobar si superficie es distinto de cero sin usar !=   \n",
    "# superficie is not 0: Aunque puede funcionar esta no es la forma correcta de hacerlo pues is not se utiliza para \n",
    "# ver si dos referencias apuntan al mismo objeto, es decir, si son el mismo objeto no para comparar valores\n",
    "superficie > 0 or superficie < 0 # No se puede usar superficie > 0 > superficie porque en este caso han de cumplirse ambas condiciones a la vez\n",
    "\n"
   ]
  },
  {
   "cell_type": "code",
   "execution_count": 43,
   "metadata": {},
   "outputs": [
    {
     "data": {
      "text/plain": [
       "'     7   '"
      ]
     },
     "execution_count": 43,
     "metadata": {},
     "output_type": "execute_result"
    }
   ],
   "source": [
    "# 33. Usar input para preguntar a un usuario el día de su cumpleaños y guardar la respuesta en la variable dia_cumple\n",
    "dia_cumple = input('¿Qué día es tu cumpleaños?')\n",
    "dia_cumple"
   ]
  },
  {
   "cell_type": "code",
   "execution_count": 38,
   "metadata": {},
   "outputs": [
    {
     "data": {
      "text/plain": [
       "'   agosto   '"
      ]
     },
     "execution_count": 38,
     "metadata": {},
     "output_type": "execute_result"
    }
   ],
   "source": [
    "# 34. Usar input para preguntar al usuario el mes de su cumpleaños y guardarlo en la variable \n",
    "# mes_cumple\n",
    "mes_cumple = input('¿Qué mes es tu cumpleaños?')\n",
    "mes_cumple"
   ]
  },
  {
   "cell_type": "code",
   "execution_count": 44,
   "metadata": {},
   "outputs": [
    {
     "name": "stdout",
     "output_type": "stream",
     "text": [
      "7\n",
      "agosto\n"
     ]
    }
   ],
   "source": [
    "# 35. Usa .strip() en ambas de las variables definidas\n",
    "print(dia_cumple.strip())\n",
    "print(mes_cumple.strip())"
   ]
  },
  {
   "cell_type": "code",
   "execution_count": 62,
   "metadata": {},
   "outputs": [
    {
     "name": "stdout",
     "output_type": "stream",
     "text": [
      "7 agosto\n"
     ]
    },
    {
     "data": {
      "text/plain": [
       "str"
      ]
     },
     "execution_count": 62,
     "metadata": {},
     "output_type": "execute_result"
    }
   ],
   "source": [
    "# 36. Haz que fecha_cumple sea un string compuesto por el día y el mes\n",
    "fecha_cumple= dia_cumple.strip() + ' ' + mes_cumple.strip()\n",
    "\n",
    "#Compruebo como queda fecha_cumple\n",
    "print (fecha_cumple)\n",
    "\n",
    "#Comrpuebo que es un strins\n",
    "type(fecha_cumple)"
   ]
  },
  {
   "cell_type": "code",
   "execution_count": 56,
   "metadata": {},
   "outputs": [
    {
     "name": "stdout",
     "output_type": "stream",
     "text": [
      "fecha de cumpleanos es 7 agosto\n"
     ]
    }
   ],
   "source": [
    "# 37. Imprimir \"fecha de cumpleaños es\" más el día y el mes\n",
    "print (\"fecha de cumpleanos es\", dia_cumple.strip(), mes_cumple.strip())"
   ]
  },
  {
   "cell_type": "code",
   "execution_count": 42,
   "metadata": {},
   "outputs": [
    {
     "data": {
      "text/plain": [
       "'CUATRO'"
      ]
     },
     "execution_count": 42,
     "metadata": {},
     "output_type": "execute_result"
    }
   ],
   "source": [
    "# 38. Imprime la variable perros toda en mayúsculas\n",
    "perros.upper()   "
   ]
  }
 ],
 "metadata": {
  "kernelspec": {
   "display_name": "base",
   "language": "python",
   "name": "python3"
  },
  "language_info": {
   "codemirror_mode": {
    "name": "ipython",
    "version": 3
   },
   "file_extension": ".py",
   "mimetype": "text/x-python",
   "name": "python",
   "nbconvert_exporter": "python",
   "pygments_lexer": "ipython3",
   "version": "3.11.7"
  }
 },
 "nbformat": 4,
 "nbformat_minor": 2
}
