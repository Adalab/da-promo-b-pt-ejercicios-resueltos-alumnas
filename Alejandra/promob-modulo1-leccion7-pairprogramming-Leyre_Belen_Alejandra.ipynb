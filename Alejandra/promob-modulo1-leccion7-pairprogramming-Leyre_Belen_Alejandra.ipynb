{
 "cells": [
  {
   "cell_type": "code",
   "execution_count": 28,
   "metadata": {},
   "outputs": [],
   "source": [
    "#Creamos la clase Empleados\n",
    "class Empleadas:\n",
    "\n",
    "    def __init__(self, nombre, apellidos, edad, posicion, año, vacaciones, herramientas):\n",
    "        self.nombre = nombre\n",
    "        self.apellidos = apellidos\n",
    "        self.edad = edad\n",
    "        self.posicion = posicion\n",
    "        self.año = año\n",
    "        self.vacaciones = vacaciones\n",
    "        self.herramientas = ['martillo','Excel', 'pluma', 'Microsoft Office', 'Python']\n",
    "\n",
    "    def descripcion(self):\n",
    "        return f'La empleada se llama {self.nombre} y es {self.posicion} desde el año {self.año} y le quedan {self.vacaciones} dias de vacaciones'   \n",
    "\n",
    "    def cambiando_posicion(self):\n",
    "        for herramienta in self.herramientas:\n",
    "            if herramienta == 'python':\n",
    "                return print('Estás muy bien preparada')\n",
    "            elif herramienta == 'excel':\n",
    "                return print('Sería aconsejable que estudiaras Python')\n",
    "            else:\n",
    "                return print('Sería aconsejable que estudiaras Excel y Python')    \n"
   ]
  },
  {
   "cell_type": "code",
   "execution_count": 29,
   "metadata": {},
   "outputs": [
    {
     "name": "stdout",
     "output_type": "stream",
     "text": [
      "Sería aconsejable que estudiaras Excel y Python\n"
     ]
    }
   ],
   "source": [
    "empleada1 = Empleadas('Sara', 'Martinez', 36, 'Gerente', 1999, 29, ['martillo', 'pluma', 'pc', 'Excel'])\n",
    "empleada1.cambiando_posicion()\n",
    "\n"
   ]
  }
 ],
 "metadata": {
  "kernelspec": {
   "display_name": "base",
   "language": "python",
   "name": "python3"
  },
  "language_info": {
   "codemirror_mode": {
    "name": "ipython",
    "version": 3
   },
   "file_extension": ".py",
   "mimetype": "text/x-python",
   "name": "python",
   "nbconvert_exporter": "python",
   "pygments_lexer": "ipython3",
   "version": "3.11.7"
  }
 },
 "nbformat": 4,
 "nbformat_minor": 2
}
